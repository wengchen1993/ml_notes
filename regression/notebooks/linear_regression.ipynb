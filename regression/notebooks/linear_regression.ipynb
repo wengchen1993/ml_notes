{
 "cells": [
  {
   "cell_type": "markdown",
   "metadata": {},
   "source": [
    "# Linear Regression"
   ]
  },
  {
   "cell_type": "markdown",
   "metadata": {},
   "source": [
    "Given one or more observable data points in n-dimensional spaces (independent variables) and  \n",
    "corresponding scalar response (dependent variables): \n",
    "\n",
    "Linear regression attempts to model the relationship between independent variables and dependent variables in a\n",
    "linear relationship."
   ]
  },
  {
   "cell_type": "markdown",
   "metadata": {},
   "source": [
    "## General Equation form"
   ]
  },
  {
   "cell_type": "markdown",
   "metadata": {},
   "source": [
    "### Multivariate Linear Regression"
   ]
  },
  {
   "cell_type": "markdown",
   "metadata": {},
   "source": [
    "$$ \n",
    "Y = W^{T}X + b \n",
    "$$"
   ]
  },
  {
   "cell_type": "markdown",
   "metadata": {},
   "source": [
    "where:  \n",
    "```\n",
    "Y = dependent variables  (also known as response variables)\n",
    "X = independent variables  (also known as predictor variables)\n",
    "W = weights / gradients  \n",
    "b = bias  \n",
    "```\n",
    "\n",
    "Note the term **b** is in lower case as it is a scalar value.  \n",
    "The upper case letters are either vectors or matrices."
   ]
  },
  {
   "cell_type": "markdown",
   "metadata": {},
   "source": [
    "More specifically, the dimensions of the parameters are as below:\n",
    "\n",
    "```\n",
    "Y -> (1, num_targets)\n",
    "W -> (num_features, 1)\n",
    "X -> (num_features, num_data)\n",
    "b -> scalar\n",
    "```"
   ]
  },
  {
   "cell_type": "markdown",
   "metadata": {},
   "source": [
    "### Useful tips"
   ]
  },
  {
   "cell_type": "markdown",
   "metadata": {},
   "source": [
    "In Statistics, it is common practice to have feature **column** vector. \n",
    "This should server as a good reminder on the supposed dimension of parameters if one is struggling to define the shape.\n",
    "\n",
    "Keeping this in mind, if we have 3 features to model after, our weight vector, W can be initialised randomly as such:  \n",
    "    \n",
    "```\n",
    "W = np.random.randn(num_features, 1)\n",
    "```"
   ]
  },
  {
   "cell_type": "markdown",
   "metadata": {},
   "source": [
    "## Assumptions"
   ]
  },
  {
   "cell_type": "markdown",
   "metadata": {},
   "source": [
    "### 1. Linear relationship between predictor and response variables."
   ]
  },
  {
   "cell_type": "markdown",
   "metadata": {},
   "source": [
    "If we were to expand the following term in the equation:\n",
    "\n",
    "$ W^{T}X $\n",
    "\n",
    "we get:\n",
    "    \n",
    "$ w_1x_1 + w_2x_2 ... + w_nx_n $ .\n",
    "\n",
    "The change in term $w_ix_i$ is linear as we increase/decrease the weight. This results in the straight plotted line \n",
    "as seen in linear regression plots."
   ]
  },
  {
   "cell_type": "markdown",
   "metadata": {},
   "source": [
    "### Possible circumvention"
   ]
  },
  {
   "cell_type": "markdown",
   "metadata": {},
   "source": [
    "If relationship between predictor and response variables are exponential, using log transform might help \n",
    "transforming this to a linear relationship."
   ]
  },
  {
   "cell_type": "markdown",
   "metadata": {},
   "source": [
    "### 2. Independence of Errors"
   ]
  },
  {
   "cell_type": "markdown",
   "metadata": {},
   "source": [
    "Error term of observations should be uncorrelated with each other.   \n",
    "If there is a correlation, this is known as autocorrelation.  \n",
    "Any correlation might indicate that the feature itself is likely to not be linear which violatesthe first assumption."
   ]
  },
  {
   "cell_type": "markdown",
   "metadata": {},
   "source": [
    "### Possible circumvention"
   ]
  },
  {
   "cell_type": "markdown",
   "metadata": {},
   "source": [
    "Add more predictor variables that can help predict the error term for the observations."
   ]
  },
  {
   "cell_type": "markdown",
   "metadata": {},
   "source": [
    "### 3. Homoscedascity"
   ]
  },
  {
   "cell_type": "markdown",
   "metadata": {},
   "source": [
    "Homoscedascity is a term referring to constant variance. In this assumption, homoscedascity is referred in particular\n",
    "to the response variables such that response variables have same variance regardless of values of predictor variables.\n",
    "\n",
    "If variance is not constant i.e heteroscedascity, the coefficient estimates in linear regression will be less precise.\n",
    "The lower in precision results in further deviation of coefficient estimates from the actual population value."
   ]
  },
  {
   "cell_type": "markdown",
   "metadata": {},
   "source": [
    "It is common that heteroscedascity caused by either temporal drift or the huge range of predictor variables.\n",
    "\n",
    "**One classic example is:**  \n",
    "Lower income family typically earns £30k with standard deviation of +/- £5k (lower bound of £25k and upper bound of £35k).  \n",
    "\n",
    "Higher income family typically earns £80k with standard deviation of +/- £10k (lower bound of £70k and upper bound of 90k).\n",
    "\n",
    "Despite we are sampling from the same population, higher income family may include bonuses in their income which tend\n",
    "to vary a lot by sectors. This leads to greater standard deviation and thus heteroscedascity."
   ]
  },
  {
   "cell_type": "markdown",
   "metadata": {},
   "source": [
    "### Possible circumvention"
   ]
  },
  {
   "cell_type": "markdown",
   "metadata": {},
   "source": [
    "Convert raw scalar features into rate / ratio to re-normalise the range."
   ]
  },
  {
   "cell_type": "markdown",
   "metadata": {},
   "source": [
    "### 4. Normal Distributed Errors"
   ]
  },
  {
   "cell_type": "markdown",
   "metadata": {},
   "source": [
    "If this assumption is violated, p-value and confidence intervals raound coefficient estimate could be wrong, leading \n",
    "to incorrect conclusion on statistical significance of predictors."
   ]
  }
 ],
 "metadata": {
  "jupytext": {
   "formats": "ipynb,md"
  },
  "kernelspec": {
   "display_name": "Python 3",
   "language": "python",
   "name": "python3"
  },
  "language_info": {
   "codemirror_mode": {
    "name": "ipython",
    "version": 3
   },
   "file_extension": ".py",
   "mimetype": "text/x-python",
   "name": "python",
   "nbconvert_exporter": "python",
   "pygments_lexer": "ipython3",
   "version": "3.7.3"
  }
 },
 "nbformat": 4,
 "nbformat_minor": 4
}
